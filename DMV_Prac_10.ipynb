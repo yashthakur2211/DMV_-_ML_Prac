{
 "cells": [
  {
   "cell_type": "code",
   "execution_count": 10,
   "id": "d14e9571",
   "metadata": {},
   "outputs": [
    {
     "data": {
      "text/html": [
       "<div>\n",
       "<style scoped>\n",
       "    .dataframe tbody tr th:only-of-type {\n",
       "        vertical-align: middle;\n",
       "    }\n",
       "\n",
       "    .dataframe tbody tr th {\n",
       "        vertical-align: top;\n",
       "    }\n",
       "\n",
       "    .dataframe thead th {\n",
       "        text-align: right;\n",
       "    }\n",
       "</style>\n",
       "<table border=\"1\" class=\"dataframe\">\n",
       "  <thead>\n",
       "    <tr style=\"text-align: right;\">\n",
       "      <th></th>\n",
       "      <th>Property ID</th>\n",
       "      <th>Property Type</th>\n",
       "      <th>Location</th>\n",
       "      <th>Bedrooms</th>\n",
       "      <th>Bathrooms</th>\n",
       "      <th>Square Feet</th>\n",
       "      <th>Year Built</th>\n",
       "      <th>Sale Price</th>\n",
       "      <th>Neighborhood</th>\n",
       "      <th>Amenities Distance Miles</th>\n",
       "    </tr>\n",
       "  </thead>\n",
       "  <tbody>\n",
       "    <tr>\n",
       "      <th>0</th>\n",
       "      <td>1</td>\n",
       "      <td>House</td>\n",
       "      <td>Downtown</td>\n",
       "      <td>2</td>\n",
       "      <td>3</td>\n",
       "      <td>1148</td>\n",
       "      <td>2009.0</td>\n",
       "      <td>807870.0</td>\n",
       "      <td>Neighborhood A</td>\n",
       "      <td>4.745561</td>\n",
       "    </tr>\n",
       "    <tr>\n",
       "      <th>1</th>\n",
       "      <td>2</td>\n",
       "      <td>Apartment</td>\n",
       "      <td>Suburb</td>\n",
       "      <td>5</td>\n",
       "      <td>1</td>\n",
       "      <td>2663</td>\n",
       "      <td>2019.0</td>\n",
       "      <td>776389.0</td>\n",
       "      <td>Neighborhood C</td>\n",
       "      <td>1.453618</td>\n",
       "    </tr>\n",
       "    <tr>\n",
       "      <th>2</th>\n",
       "      <td>3</td>\n",
       "      <td>House</td>\n",
       "      <td>Downtown</td>\n",
       "      <td>4</td>\n",
       "      <td>3</td>\n",
       "      <td>2957</td>\n",
       "      <td>NaN</td>\n",
       "      <td>NaN</td>\n",
       "      <td>Neighborhood A</td>\n",
       "      <td>2.480775</td>\n",
       "    </tr>\n",
       "    <tr>\n",
       "      <th>3</th>\n",
       "      <td>4</td>\n",
       "      <td>House</td>\n",
       "      <td>Rural</td>\n",
       "      <td>4</td>\n",
       "      <td>3</td>\n",
       "      <td>2721</td>\n",
       "      <td>2001.0</td>\n",
       "      <td>186148.0</td>\n",
       "      <td>Neighborhood C</td>\n",
       "      <td>0.141468</td>\n",
       "    </tr>\n",
       "    <tr>\n",
       "      <th>4</th>\n",
       "      <td>5</td>\n",
       "      <td>Apartment</td>\n",
       "      <td>Downtown</td>\n",
       "      <td>2</td>\n",
       "      <td>1</td>\n",
       "      <td>2780</td>\n",
       "      <td>2009.0</td>\n",
       "      <td>405378.0</td>\n",
       "      <td>Neighborhood B</td>\n",
       "      <td>0.305964</td>\n",
       "    </tr>\n",
       "  </tbody>\n",
       "</table>\n",
       "</div>"
      ],
      "text/plain": [
       "   Property ID Property Type  Location  Bedrooms  Bathrooms  Square Feet  \\\n",
       "0            1         House  Downtown         2          3         1148   \n",
       "1            2     Apartment    Suburb         5          1         2663   \n",
       "2            3         House  Downtown         4          3         2957   \n",
       "3            4         House     Rural         4          3         2721   \n",
       "4            5     Apartment  Downtown         2          1         2780   \n",
       "\n",
       "   Year Built  Sale Price    Neighborhood  Amenities Distance Miles  \n",
       "0      2009.0    807870.0  Neighborhood A                  4.745561  \n",
       "1      2019.0    776389.0  Neighborhood C                  1.453618  \n",
       "2         NaN         NaN  Neighborhood A                  2.480775  \n",
       "3      2001.0    186148.0  Neighborhood C                  0.141468  \n",
       "4      2009.0    405378.0  Neighborhood B                  0.305964  "
      ]
     },
     "execution_count": 10,
     "metadata": {},
     "output_type": "execute_result"
    }
   ],
   "source": [
    "import pandas as pd\n",
    "import numpy as np\n",
    "import warnings\n",
    "warnings.filterwarnings(\"ignore\")\n",
    "\n",
    "# 1. Import the dataset and clean column names\n",
    "data = pd.read_csv(\"RealEstate_Prices.csv\")\n",
    "data.head()"
   ]
  },
  {
   "cell_type": "code",
   "execution_count": 11,
   "id": "a1c8f2a7",
   "metadata": {},
   "outputs": [],
   "source": [
    "# Clean column names by removing spaces, special characters, and renaming for clarity\n",
    "data.columns = data.columns.str.strip().str.replace(' ', '_').str.replace(r'[^\\w\\s]', '')\n"
   ]
  },
  {
   "cell_type": "code",
   "execution_count": 12,
   "id": "2f331f0d",
   "metadata": {},
   "outputs": [
    {
     "name": "stdout",
     "output_type": "stream",
     "text": [
      "Cleaned Column Names:\n",
      "   Property_ID Property_Type  Location  Bedrooms  Bathrooms  Square_Feet  \\\n",
      "0            1         House  Downtown         2          3         1148   \n",
      "1            2     Apartment    Suburb         5          1         2663   \n",
      "2            3         House  Downtown         4          3         2957   \n",
      "3            4         House     Rural         4          3         2721   \n",
      "4            5     Apartment  Downtown         2          1         2780   \n",
      "\n",
      "   Year_Built  Sale_Price    Neighborhood  Amenities_Distance_Miles  \n",
      "0      2009.0    807870.0  Neighborhood A                  4.745561  \n",
      "1      2019.0    776389.0  Neighborhood C                  1.453618  \n",
      "2         NaN         NaN  Neighborhood A                  2.480775  \n",
      "3      2001.0    186148.0  Neighborhood C                  0.141468  \n",
      "4      2009.0    405378.0  Neighborhood B                  0.305964  \n"
     ]
    }
   ],
   "source": [
    "# Display the first few rows to verify column cleaning\n",
    "print(\"Cleaned Column Names:\")\n",
    "print(data.head())"
   ]
  },
  {
   "cell_type": "code",
   "execution_count": 13,
   "id": "b2b99488",
   "metadata": {},
   "outputs": [
    {
     "name": "stdout",
     "output_type": "stream",
     "text": [
      "\n",
      "Missing Values after Imputation:\n",
      "Property_ID                 0\n",
      "Property_Type               0\n",
      "Location                    0\n",
      "Bedrooms                    0\n",
      "Bathrooms                   0\n",
      "Square_Feet                 0\n",
      "Year_Built                  0\n",
      "Sale_Price                  0\n",
      "Neighborhood                0\n",
      "Amenities_Distance_Miles    0\n",
      "dtype: int64\n"
     ]
    }
   ],
   "source": [
    "# 2. Handle missing values\n",
    "# Decide on a strategy to handle missing values. Example: filling numerical with mean and categorical with mode.\n",
    "for column in data.columns:\n",
    "    if data[column].dtype == 'object':  # Check if column is categorical\n",
    "        data[column].fillna(data[column].mode()[0], inplace=True)\n",
    "    else:  # Numeric column\n",
    "        data[column].fillna(data[column].mean(), inplace=True)\n",
    "\n",
    "# Display summary of missing values to ensure they are handled\n",
    "print(\"\\nMissing Values after Imputation:\")\n",
    "print(data.isnull().sum())"
   ]
  },
  {
   "cell_type": "code",
   "execution_count": 15,
   "id": "9f12505a",
   "metadata": {},
   "outputs": [],
   "source": [
    "# 4. Filter and subset data based on criteria\n",
    "# Example: Filter properties sold after 2015 and of type 'Single Family'\n",
    "filtered_data = data[(data['Year_Built'] > 2015) & (data['Property_Type'] == 'Single Family')]"
   ]
  },
  {
   "cell_type": "code",
   "execution_count": 16,
   "id": "54031a89",
   "metadata": {},
   "outputs": [],
   "source": [
    "# 5. Handle categorical variables by encoding\n",
    "# Example of one-hot encoding categorical variables\n",
    "encoded_data = pd.get_dummies(filtered_data, columns=['Property_Type', 'c'], drop_first=True)"
   ]
  },
  {
   "cell_type": "code",
   "execution_count": 27,
   "id": "2f9d3239",
   "metadata": {},
   "outputs": [
    {
     "name": "stdout",
     "output_type": "stream",
     "text": [
      "Current Columns in encoded_data:\n",
      "Index(['Property_ID', 'Location', 'Bedrooms', 'Bathrooms', 'Square_Feet',\n",
      "       'Year_Built', 'Sale_Price', 'Amenities_Distance_Miles'],\n",
      "      dtype='object')\n"
     ]
    }
   ],
   "source": [
    "# Print the column names to identify the correct one\n",
    "print(\"Current Columns in encoded_data:\")\n",
    "print(encoded_data.columns)"
   ]
  },
  {
   "cell_type": "code",
   "execution_count": 30,
   "id": "6785edfb",
   "metadata": {},
   "outputs": [
    {
     "name": "stdout",
     "output_type": "stream",
     "text": [
      "\n",
      "Average Sale Price by Neighborhood:\n",
      "     Neighborhood  Average_Sale_Price\n",
      "0  Neighborhood A       533672.207207\n",
      "1  Neighborhood B       542188.843137\n",
      "2  Neighborhood C       642901.030651\n"
     ]
    }
   ],
   "source": [
    "# Assuming the relevant column for aggregation is 'Neighborhood' and the target is 'Sale_Price'\n",
    "# Replace 'Neighborhood' and 'Sale_Price' with the actual column names if they are different\n",
    "avg_price_by_neighborhood = data.groupby('Neighborhood').agg({'Sale_Price': 'mean'}).reset_index()\n",
    "avg_price_by_neighborhood.rename(columns={'Sale_Price': 'Average_Sale_Price'}, inplace=True)\n",
    "\n",
    "# Display the result\n",
    "print(\"\\nAverage Sale Price by Neighborhood:\")\n",
    "print(avg_price_by_neighborhood)"
   ]
  },
  {
   "cell_type": "code",
   "execution_count": 19,
   "id": "7d2dff3a",
   "metadata": {},
   "outputs": [
    {
     "name": "stdout",
     "output_type": "stream",
     "text": [
      "\n",
      "Number of rows before outlier removal: 0\n",
      "Number of rows after outlier removal: 0\n"
     ]
    }
   ],
   "source": [
    "# 7. Identify and handle outliers\n",
    "# Using IQR to identify outliers in 'Sale_Price'\n",
    "Q1 = encoded_data['Sale_Price'].quantile(0.25)\n",
    "Q3 = encoded_data['Sale_Price'].quantile(0.75)\n",
    "IQR = Q3 - Q1\n",
    "\n",
    "# Define limits for outliers\n",
    "lower_bound = Q1 - 1.5 * IQR\n",
    "upper_bound = Q3 + 1.5 * IQR\n",
    "\n",
    "# Filter out outliers\n",
    "outlier_filtered_data = encoded_data[(encoded_data['Sale_Price'] >= lower_bound) & (encoded_data['Sale_Price'] <= upper_bound)]\n",
    "\n",
    "# Display number of rows before and after outlier removal\n",
    "print(\"\\nNumber of rows before outlier removal:\", len(encoded_data))\n",
    "print(\"Number of rows after outlier removal:\", len(outlier_filtered_data))\n"
   ]
  },
  {
   "cell_type": "code",
   "execution_count": 31,
   "id": "0046b65a",
   "metadata": {},
   "outputs": [
    {
     "name": "stdout",
     "output_type": "stream",
     "text": [
      "\n",
      "Data wrangling completed! Cleaned dataset saved as 'Cleaned_RealEstate_Data.csv'.\n"
     ]
    }
   ],
   "source": [
    "cleaned_data = outlier_filtered_data\n",
    "cleaned_data.to_csv(\"Cleaned_RealEstate_Data.csv\", index=False)\n",
    "print(\"\\nData wrangling completed! Cleaned dataset saved as 'Cleaned_RealEstate_Data.csv'.\")"
   ]
  },
  {
   "cell_type": "code",
   "execution_count": null,
   "id": "a529a518",
   "metadata": {},
   "outputs": [],
   "source": []
  }
 ],
 "metadata": {
  "kernelspec": {
   "display_name": "Python 3",
   "language": "python",
   "name": "python3"
  },
  "language_info": {
   "codemirror_mode": {
    "name": "ipython",
    "version": 3
   },
   "file_extension": ".py",
   "mimetype": "text/x-python",
   "name": "python",
   "nbconvert_exporter": "python",
   "pygments_lexer": "ipython3",
   "version": "3.12.3"
  }
 },
 "nbformat": 4,
 "nbformat_minor": 5
}
