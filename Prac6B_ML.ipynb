{
 "cells": [
  {
   "cell_type": "code",
   "execution_count": 1,
   "metadata": {},
   "outputs": [
    {
     "name": "stderr",
     "output_type": "stream",
     "text": [
      "c:\\Users\\Yash\\AppData\\Local\\Programs\\Python\\Python312\\Lib\\site-packages\\pygame\\pkgdata.py:25: DeprecationWarning: pkg_resources is deprecated as an API. See https://setuptools.pypa.io/en/latest/pkg_resources.html\n",
      "  from pkg_resources import resource_stream, resource_exists\n",
      "c:\\Users\\Yash\\AppData\\Local\\Programs\\Python\\Python312\\Lib\\site-packages\\gym\\core.py:317: DeprecationWarning: \u001b[33mWARN: Initializing wrapper in old step API which returns one bool instead of two. It is recommended to set `new_step_api=True` to use new step API. This will be the default behaviour in future.\u001b[0m\n",
      "  deprecation(\n",
      "c:\\Users\\Yash\\AppData\\Local\\Programs\\Python\\Python312\\Lib\\site-packages\\gym\\wrappers\\step_api_compatibility.py:39: DeprecationWarning: \u001b[33mWARN: Initializing environment in old step API which returns one bool instead of two. It is recommended to set `new_step_api=True` to use new step API. This will be the default behaviour in future.\u001b[0m\n",
      "  deprecation(\n",
      "c:\\Users\\Yash\\AppData\\Local\\Programs\\Python\\Python312\\Lib\\site-packages\\gym\\utils\\passive_env_checker.py:241: DeprecationWarning: `np.bool8` is a deprecated alias for `np.bool_`.  (Deprecated NumPy 1.24)\n",
      "  if not isinstance(terminated, (bool, np.bool8)):\n"
     ]
    },
    {
     "ename": "",
     "evalue": "",
     "output_type": "error",
     "traceback": [
      "\u001b[1;31mThe Kernel crashed while executing code in the current cell or a previous cell. \n",
      "\u001b[1;31mPlease review the code in the cell(s) to identify a possible cause of the failure. \n",
      "\u001b[1;31mClick <a href='https://aka.ms/vscodeJupyterKernelCrash'>here</a> for more info. \n",
      "\u001b[1;31mView Jupyter <a href='command:jupyter.viewOutput'>log</a> for further details."
     ]
    }
   ],
   "source": [
    "import gym\n",
    "import numpy as np\n",
    "import pygame  # Ensure Pygame is initialized\n",
    "import os\n",
    "\n",
    "# Initialize pygame to avoid rendering issues\n",
    "pygame.init()\n",
    "\n",
    "# Optional: Use this if running on headless systems or remote setups\n",
    "# os.environ[\"SDL_VIDEODRIVER\"] = \"dummy\"\n",
    "\n",
    "# Initialize the Taxi environment\n",
    "env = gym.make(\"Taxi-v3\", render_mode=\"human\")\n",
    "\n",
    "\n",
    "# Initialize the Q-table with zeros\n",
    "q_table = np.zeros([env.observation_space.n, env.action_space.n])\n",
    "\n",
    "# Hyperparameters\n",
    "alpha = 0.1      # Learning rate\n",
    "gamma = 0.6      # Discount factor\n",
    "epsilon = 0.1    # Exploration-exploitation trade-off\n",
    "num_episodes = 1000  # Number of episodes for training\n",
    "\n",
    "# Training the agent\n",
    "for episode in range(num_episodes):\n",
    "    state, _ = env.reset() if isinstance(env.reset(), tuple) else (env.reset(), None)\n",
    "    done = False\n",
    "\n",
    "    while not done:\n",
    "        state = int(state)  # Ensure state is an integer\n",
    "\n",
    "        # Choose action (explore vs exploit)\n",
    "        if np.random.uniform(0, 1) < epsilon:\n",
    "            action = env.action_space.sample()  # Explore\n",
    "        else:\n",
    "            action = np.argmax(q_table[state])  # Exploit\n",
    "\n",
    "        # Perform the action and get the next state and reward\n",
    "        next_state, reward, done, info = env.step(action)\n",
    "\n",
    "\n",
    "        # Update the Q-table\n",
    "        old_value = q_table[state, action]\n",
    "        next_max = np.max(q_table[next_state])\n",
    "        new_value = (1 - alpha) * old_value + alpha * (reward + gamma * next_max)\n",
    "        q_table[state, action] = new_value\n",
    "\n",
    "        state = next_state  # Move to the next state\n",
    "\n",
    "print(\"Training completed.\")\n",
    "\n",
    "# Test the trained agent\n",
    "state, _ = env.reset() if isinstance(env.reset(), tuple) else (env.reset(), None)\n",
    "env.render()  # Initial render for graphical view\n",
    "\n",
    "done = False\n",
    "total_reward = 0\n",
    "\n",
    "while not done:\n",
    "    state = int(state)  # Ensure state is an integer\n",
    "\n",
    "    action = np.argmax(q_table[state])  # Select best action\n",
    "    next_state, reward, done, info = env.step(action)\n",
    "    total_reward += reward\n",
    "\n",
    "    # Use custom rendering by capturing the environment’s output\n",
    "    output = env.render()  # Render the environment state\n",
    "    print(output)  # Print the rendered environment\n",
    "\n",
    "    state = next_state  # Update state\n",
    "\n",
    "print(f\"Total reward: {total_reward}\")\n"
   ]
  },
  {
   "cell_type": "code",
   "execution_count": null,
   "metadata": {},
   "outputs": [],
   "source": []
  }
 ],
 "metadata": {
  "kernelspec": {
   "display_name": "Python 3",
   "language": "python",
   "name": "python3"
  },
  "language_info": {
   "codemirror_mode": {
    "name": "ipython",
    "version": 3
   },
   "file_extension": ".py",
   "mimetype": "text/x-python",
   "name": "python",
   "nbconvert_exporter": "python",
   "pygments_lexer": "ipython3",
   "version": "3.12.3"
  }
 },
 "nbformat": 4,
 "nbformat_minor": 2
}
